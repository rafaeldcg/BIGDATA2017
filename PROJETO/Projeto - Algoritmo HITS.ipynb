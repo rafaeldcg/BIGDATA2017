{
 "cells": [
  {
   "cell_type": "code",
   "execution_count": 17,
   "metadata": {
    "scrolled": false
   },
   "outputs": [
    {
     "data": {
      "image/png": "[encoded data removed]",
      "text/plain": [
       "<matplotlib.figure.Figure at 0x7f982b107cd0>"
      ]
     },
     "metadata": {},
     "output_type": "display_data"
    }
   ],
   "source": [
    "import re, sys\n",
    "import networkx as nx\n",
    "import matplotlib.pyplot as plt\n",
    "from operator import add\n",
    "\n",
    "from pyspark import SparkContext\n",
    "sc = SparkContext.getOrCreate()\n",
    "\n",
    "#Funções auxiliares para cálculo dos scores de autoridade e hub\n",
    "def calculaAut(x, y):\n",
    "    for k in x: \n",
    "        yield (k, y)\n",
    "\n",
    "def calculaHub(x, y):\n",
    "    for k in x: \n",
    "        yield (k, y)   \n",
    "\n",
    "#Cria um digrafo\n",
    "DG = nx.DiGraph()\n",
    "DG.add_edges_from([('A','B'),('A','C'),('A','D'),('B','A'),\\\n",
    "                   ('B','D'),('C','E'),('D','B'),('D','C')])\n",
    "\n",
    "#Desenha grafo na tela\n",
    "nx.draw(DG,with_labels=True)\n",
    "plt.show()"
   ]
  },
  {
   "cell_type": "code",
   "execution_count": 18,
   "metadata": {
    "collapsed": true
   },
   "outputs": [],
   "source": [
    "#Cria RDD com os vértices do grafo\n",
    "rddVertices = sc.parallelize(DG.out_edges)\n",
    "\n",
    "#Lista dos links de saída\n",
    "linksOut = rddVertices.distinct().groupByKey().cache()\n",
    "\n",
    "#Lista dos links de entrada\n",
    "linksIn = rddVertices.map(lambda (x,y): (y,x)).distinct().groupByKey().cache()"
   ]
  },
  {
   "cell_type": "code",
   "execution_count": 19,
   "metadata": {
    "collapsed": true
   },
   "outputs": [],
   "source": [
    "#Inicializa os scores de hub\n",
    "rddHub = linksOut.map(lambda (x,y): (x, 1.0))\n",
    "\n",
    "#Inicializa os scores de autoridade\n",
    "rddAut = linksIn.map(lambda (x,y): (x, 1.0))"
   ]
  },
  {
   "cell_type": "code",
   "execution_count": 20,
   "metadata": {
    "collapsed": true
   },
   "outputs": [],
   "source": [
    "#Executa o algoritmo 15 vezes\n",
    "for i in range(15):\n",
    "    \n",
    "    #Atualiza os scores de autoridade de todos os vértices presentes na lista de links de saída\n",
    "    updateAut = linksOut.join(rddHub).flatMap(lambda (k, (x, y)): calculaAut(x, y))\n",
    "    #Reduce dos scores de autoridade obtidos\n",
    "    rddAut = updateAut.reduceByKey(add)\n",
    "    #Normalizando os scores utilizando o score máximo\n",
    "    maximo = rddAut.max(key = lambda x: x[1])[1]\n",
    "    rddAut = rddAut.mapValues(lambda x: x/(maximo))\n",
    "        \n",
    "    #Atualiza os scores de hub de todos os vértices presentes na lista de links de entrada\n",
    "    updateHub = linksIn.join(rddAut).flatMap(lambda (k, (x, y)): calculaHub(x, y))\n",
    "    #Reduce dos scores de hub obtidos\n",
    "    rddHub = updateHub.reduceByKey(add)\n",
    "    #Normalizando os scores utilizando o score máximo\n",
    "    maximo = rddHub.max(key = lambda x: x[1])[1]\n",
    "    rddHub = rddHub.mapValues(lambda x: x/(maximo))"
   ]
  },
  {
   "cell_type": "code",
   "execution_count": 21,
   "metadata": {
    "scrolled": true
   },
   "outputs": [
    {
     "name": "stdout",
     "output_type": "stream",
     "text": [
      "D possui score de autoridade: 0.486606389769\n",
      "C possui score de autoridade: 0.614953988757\n",
      "B possui score de autoridade: 0.614953988757\n",
      "A possui score de autoridade: 0.128348981338\n",
      "E possui score de autoridade: 8.4371932348e-11\n",
      "A possui score de hub: 1.0\n",
      "D possui score de hub: 0.716514816862\n",
      "B possui score de hub: 0.358258213755\n",
      "C possui score de hub: 4.91530592205e-11\n"
     ]
    }
   ],
   "source": [
    "#Imprime os scores finais de autoridade e de hub para cada vértice\n",
    "for (x, y) in rddAut.collect(): print \"%s possui score de autoridade: %s\" % (x, y)\n",
    "\n",
    "for (x, y) in rddHub.collect(): print \"%s possui score de hub: %s\" % (x, y)"
   ]
  },
  {
   "cell_type": "code",
   "execution_count": null,
   "metadata": {
    "collapsed": true
   },
   "outputs": [],
   "source": []
  }
 ],
 "metadata": {
  "kernelspec": {
   "display_name": "Python 2",
   "language": "python",
   "name": "python2"
  },
  "language_info": {
   "codemirror_mode": {
    "name": "ipython",
    "version": 2
   },
   "file_extension": ".py",
   "mimetype": "text/x-python",
   "name": "python",
   "nbconvert_exporter": "python",
   "pygments_lexer": "ipython2",
   "version": "2.7.14"
  }
 },
 "nbformat": 4,
 "nbformat_minor": 2
}
